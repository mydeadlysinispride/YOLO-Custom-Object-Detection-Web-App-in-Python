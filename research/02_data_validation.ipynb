{
 "cells": [
  {
   "cell_type": "code",
   "execution_count": 1,
   "metadata": {},
   "outputs": [],
   "source": [
    "import os"
   ]
  },
  {
   "cell_type": "code",
   "execution_count": 2,
   "metadata": {},
   "outputs": [
    {
     "data": {
      "text/plain": [
       "'c:\\\\Users\\\\Dell\\\\Desktop\\\\YOLO-Custom-Object-Detection-Web-App-in-Python\\\\research'"
      ]
     },
     "execution_count": 2,
     "metadata": {},
     "output_type": "execute_result"
    }
   ],
   "source": [
    "%pwd"
   ]
  },
  {
   "cell_type": "code",
   "execution_count": 3,
   "metadata": {},
   "outputs": [],
   "source": [
    "os.chdir(\"../\")"
   ]
  },
  {
   "cell_type": "code",
   "execution_count": 4,
   "metadata": {},
   "outputs": [
    {
     "data": {
      "text/plain": [
       "'c:\\\\Users\\\\Dell\\\\Desktop\\\\YOLO-Custom-Object-Detection-Web-App-in-Python'"
      ]
     },
     "execution_count": 4,
     "metadata": {},
     "output_type": "execute_result"
    }
   ],
   "source": [
    "%pwd"
   ]
  },
  {
   "cell_type": "code",
   "execution_count": 7,
   "metadata": {},
   "outputs": [],
   "source": [
    "from dataclasses import dataclass\n",
    "from pathlib import Path\n",
    "\n",
    "@dataclass(frozen=True)\n",
    "class YoloDataValidationConfig:\n",
    "    root_dir: Path\n",
    "    status_file: str\n",
    "    images_dir: Path\n",
    "    annotations_dir: Path\n",
    "    classes_file: Path  # Path to a file containing class labels"
   ]
  },
  {
   "cell_type": "code",
   "execution_count": 6,
   "metadata": {},
   "outputs": [],
   "source": [
    "from src.ppeDetection.constants import *\n",
    "from src.ppeDetection.utils.common import read_yaml, create_directories"
   ]
  },
  {
   "cell_type": "code",
   "execution_count": 8,
   "metadata": {},
   "outputs": [],
   "source": [
    "class ConfigurationManager:\n",
    "    def __init__(\n",
    "        self,\n",
    "        config_filepath=CONFIG_FILE_PATH,\n",
    "        params_filepath=PARAMS_FILE_PATH,\n",
    "        schema_filepath=SCHEMA_FILE_PATH):\n",
    "        \n",
    "        self.config = read_yaml(config_filepath)\n",
    "        self.params = read_yaml(params_filepath)\n",
    "        self.schema = read_yaml(schema_filepath)\n",
    "\n",
    "        create_directories([self.config.artifacts_root])\n",
    "\n",
    "    def get_yolo_data_validation_config(self) -> YoloDataValidationConfig:\n",
    "        config = self.config.data_validation\n",
    "\n",
    "        create_directories([config.root_dir])\n",
    "\n",
    "        yolo_data_validation_config = YoloDataValidationConfig(\n",
    "            root_dir=config.root_dir,\n",
    "            status_file=config.STATUS_FILE,\n",
    "            images_dir=config.images_dir,\n",
    "            annotations_dir=config.annotations_dir,\n",
    "            classes_file=config.classes_file,\n",
    "        )\n",
    "\n",
    "        return yolo_data_validation_config"
   ]
  },
  {
   "cell_type": "code",
   "execution_count": 9,
   "metadata": {},
   "outputs": [],
   "source": [
    "class YoloDataValidation:\n",
    "    def __init__(self, config: YoloDataValidationConfig):\n",
    "        self.config = config\n",
    "\n",
    "    def validate_classes(self) -> bool:\n",
    "        \"\"\"Validate that the classes file exists and has valid entries.\"\"\"\n",
    "        if not self.config.classes_file.exists():\n",
    "            raise FileNotFoundError(f\"Classes file not found: {self.config.classes_file}\")\n",
    "        \n",
    "        with open(self.config.classes_file, 'r') as file:\n",
    "            classes = [line.strip() for line in file.readlines()]\n",
    "        \n",
    "        if not classes:\n",
    "            raise ValueError(\"Classes file is empty.\")\n",
    "        \n",
    "        print(\"Classes validation passed.\")\n",
    "        return True\n",
    "\n",
    "    def validate_annotations(self) -> bool:\n",
    "        \"\"\"Validate that all annotation files match the image files and have correct YOLO format.\"\"\"\n",
    "        annotations = list(self.config.annotations_dir.glob(\"*.txt\"))\n",
    "        images = list(self.config.images_dir.glob(\"*.*\"))\n",
    "\n",
    "        if len(images) == 0:\n",
    "            raise ValueError(\"No images found in the directory.\")\n",
    "\n",
    "        if len(annotations) == 0:\n",
    "            raise ValueError(\"No annotation files found in the directory.\")\n",
    "        \n",
    "        for image_file in images:\n",
    "            annotation_file = self.config.annotations_dir / f\"{image_file.stem}.txt\"\n",
    "            if not annotation_file.exists():\n",
    "                raise FileNotFoundError(f\"Missing annotation file for image: {image_file}\")\n",
    "            \n",
    "            with open(annotation_file, 'r') as file:\n",
    "                for line in file.readlines():\n",
    "                    parts = line.strip().split()\n",
    "                    if len(parts) < 5:\n",
    "                        raise ValueError(f\"Invalid annotation format in {annotation_file}: {line}\")\n",
    "        \n",
    "        print(\"Annotation validation passed.\")\n",
    "        return True\n",
    "\n",
    "    def validate_all(self) -> bool:\n",
    "        \"\"\"Run all validations.\"\"\"\n",
    "        try:\n",
    "            classes_valid = self.validate_classes()\n",
    "            annotations_valid = self.validate_annotations()\n",
    "\n",
    "            validation_status = classes_valid and annotations_valid\n",
    "\n",
    "            with open(self.config.status_file, 'w') as f:\n",
    "                f.write(f\"Validation status: {validation_status}\")\n",
    "\n",
    "            print(\"Data validation completed successfully.\")\n",
    "            return validation_status\n",
    "\n",
    "        except Exception as e:\n",
    "            with open(self.config.status_file, 'w') as f:\n",
    "                f.write(f\"Validation status: False\\nError: {str(e)}\")\n",
    "            raise e"
   ]
  },
  {
   "cell_type": "code",
   "execution_count": null,
   "metadata": {},
   "outputs": [],
   "source": []
  }
 ],
 "metadata": {
  "kernelspec": {
   "display_name": "env",
   "language": "python",
   "name": "python3"
  },
  "language_info": {
   "codemirror_mode": {
    "name": "ipython",
    "version": 3
   },
   "file_extension": ".py",
   "mimetype": "text/x-python",
   "name": "python",
   "nbconvert_exporter": "python",
   "pygments_lexer": "ipython3",
   "version": "3.12.7"
  }
 },
 "nbformat": 4,
 "nbformat_minor": 2
}
