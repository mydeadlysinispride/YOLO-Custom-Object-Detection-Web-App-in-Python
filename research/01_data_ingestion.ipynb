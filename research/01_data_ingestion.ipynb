{
 "cells": [
  {
   "cell_type": "code",
   "execution_count": null,
   "metadata": {},
   "outputs": [],
   "source": [
    "!pip install roboflow\n",
    "\n",
    "from roboflow import Roboflow\n",
    "rf = Roboflow(api_key=\"yB1sjDLxzVT1r0Q4ZMiW\")\n",
    "project = rf.workspace(\"new-workspace-ienyy\").project(\"personal-protective-equipments-cmu6w\")\n",
    "version = project.version(7)\n",
    "dataset = version.download(\"yolov11\")\n"
   ]
  },
  {
   "cell_type": "code",
   "execution_count": 3,
   "metadata": {},
   "outputs": [],
   "source": [
    "import os"
   ]
  },
  {
   "cell_type": "code",
   "execution_count": 4,
   "metadata": {},
   "outputs": [
    {
     "data": {
      "text/plain": [
       "'c:\\\\Users\\\\Dell\\\\Desktop\\\\YOLO-Custom-Object-Detection-Web-App-in-Python\\\\research'"
      ]
     },
     "execution_count": 4,
     "metadata": {},
     "output_type": "execute_result"
    }
   ],
   "source": [
    "%pwd"
   ]
  },
  {
   "cell_type": "code",
   "execution_count": 5,
   "metadata": {},
   "outputs": [],
   "source": [
    "os.chdir(\"../\")"
   ]
  },
  {
   "cell_type": "code",
   "execution_count": 9,
   "metadata": {},
   "outputs": [
    {
     "data": {
      "text/plain": [
       "'c:\\\\Users\\\\Dell\\\\Desktop\\\\YOLO-Custom-Object-Detection-Web-App-in-Python'"
      ]
     },
     "execution_count": 9,
     "metadata": {},
     "output_type": "execute_result"
    }
   ],
   "source": [
    "%pwd"
   ]
  },
  {
   "cell_type": "code",
   "execution_count": 7,
   "metadata": {},
   "outputs": [],
   "source": [
    "from dataclasses import dataclass\n",
    "from pathlib import Path\n",
    "\n",
    "\n",
    "@dataclass(frozen=True)\n",
    "class DataIngestionConfig:\n",
    "    root_dir: Path\n",
    "    source_URL: str\n",
    "    local_data_file: Path\n",
    "    unzip_dir: Path"
   ]
  },
  {
   "cell_type": "code",
   "execution_count": 11,
   "metadata": {},
   "outputs": [],
   "source": [
    "from src.ppeDetection.constants import *\n",
    "from src.ppeDetection.utils.common import read_yaml, create_directories"
   ]
  },
  {
   "cell_type": "code",
   "execution_count": 12,
   "metadata": {},
   "outputs": [],
   "source": [
    "import os\n",
    "from dotenv import load_dotenv\n",
    "\n",
    "# Load environment variables\n",
    "load_dotenv()\n",
    "\n",
    "class ConfigurationManager:\n",
    "    def __init__(self, config_filepath=CONFIG_FILE_PATH, params_filepath=PARAMS_FILE_PATH, schema_filepath=SCHEMA_FILE_PATH):\n",
    "        self.config = read_yaml(config_filepath)\n",
    "        self.params = read_yaml(params_filepath)\n",
    "        self.schema = read_yaml(schema_filepath)\n",
    "        create_directories([self.config.artifacts_root])\n",
    "\n",
    "    def get_data_ingestion_config(self) -> DataIngestionConfig:\n",
    "        config = self.config.data_ingestion\n",
    "\n",
    "        # Nếu có tùy chọn Roboflow, thay thế API key trong URL\n",
    "        if config.roboflow_option:\n",
    "            source_URL = config.source_URL.replace(\"${ROBOFLOW_API_KEY}\", os.getenv(\"ROBOFLOW_API_KEY\"))\n",
    "        else:\n",
    "            source_URL = config.source_URL\n",
    "\n",
    "        # Tạo thư mục lưu trữ dữ liệu\n",
    "        create_directories([config.root_dir])\n",
    "\n",
    "        # Tạo đối tượng DataIngestionConfig\n",
    "        data_ingestion_config = DataIngestionConfig(\n",
    "            root_dir=config.root_dir,\n",
    "            source_URL=source_URL,  # Sử dụng URL đã chỉnh sửa\n",
    "            local_data_file=config.local_data_file,\n",
    "            unzip_dir=config.unzip_dir\n",
    "        )\n",
    "\n",
    "        return data_ingestion_config\n"
   ]
  },
  {
   "cell_type": "code",
   "execution_count": 14,
   "metadata": {},
   "outputs": [],
   "source": [
    "import os\n",
    "import urllib.request as request\n",
    "import zipfile\n",
    "from src.ppeDetection import logger\n",
    "from src.ppeDetection.utils.common import get_size"
   ]
  },
  {
   "cell_type": "code",
   "execution_count": 19,
   "metadata": {},
   "outputs": [],
   "source": [
    "class DataIngestion:\n",
    "    def __init__(self, config: DataIngestionConfig):\n",
    "        self.config = config\n",
    "\n",
    "\n",
    "    \n",
    "    def download_file(self):\n",
    "        if not os.path.exists(self.config.local_data_file):\n",
    "            filename, headers = request.urlretrieve(\n",
    "                url = self.config.source_URL,\n",
    "                filename = self.config.local_data_file\n",
    "            )\n",
    "            logger.info(f\"{filename} download! with following info: \\n{headers}\")\n",
    "        else:\n",
    "            logger.info(f\"File already exists of size: {get_size(Path(self.config.local_data_file))}\")\n",
    "\n",
    "\n",
    "\n",
    "    def extract_zip_file(self):\n",
    "        \"\"\"\n",
    "        zip_file_path: str\n",
    "        Extracts the zip file into the data directory\n",
    "        Function returns None\n",
    "        \"\"\"\n",
    "        unzip_path = self.config.unzip_dir\n",
    "        os.makedirs(unzip_path, exist_ok=True)\n",
    "        with zipfile.ZipFile(self.config.local_data_file, 'r') as zip_ref:\n",
    "            zip_ref.extractall(unzip_path)\n",
    "        logger.info(f\"Extracted {self.config.local_data_file} to {unzip_path}\")\n",
    "    \n",
    "    def remove_zip_file(self):\n",
    "        os.remove(self.config.local_data_file)\n",
    "        logger.info(f\"Removed {self.config.local_data_file}\")"
   ]
  },
  {
   "cell_type": "code",
   "execution_count": 20,
   "metadata": {},
   "outputs": [
    {
     "name": "stdout",
     "output_type": "stream",
     "text": [
      "[2025-01-08 10:44:14,962: INFO: common: yaml file: config\\config.yaml loaded successfully\n",
      "[2025-01-08 10:44:14,962: INFO: common: yaml file: params.yaml loaded successfully\n",
      "[2025-01-08 10:44:14,964: INFO: common: yaml file: schema.yaml loaded successfully\n",
      "[2025-01-08 10:44:14,965: INFO: common: created directory at: artifacts\n",
      "[2025-01-08 10:44:14,967: INFO: common: created directory at: artifacts/data_ingestion\n",
      "[2025-01-08 10:46:59,796: INFO: 2441967934: artifacts/data_ingestion/data.zip download! with following info: \n",
      "X-GUploader-UploadID: AFiumC6Y3_ZRlGS9aFI2O4rwFS2VK8S39VbGovNEGgXk3QV6mLNO2ZL63sDHfGv4nPyxZk0\n",
      "Expires: Wed, 08 Jan 2025 03:44:39 GMT\n",
      "Date: Wed, 08 Jan 2025 03:44:39 GMT\n",
      "Cache-Control: private, max-age=0\n",
      "Last-Modified: Fri, 03 Jan 2025 07:00:38 GMT\n",
      "ETag: \"5faa850728c222fa6448e1086be82699\"\n",
      "x-goog-generation: 1735887638700893\n",
      "x-goog-metageneration: 1\n",
      "x-goog-stored-content-encoding: identity\n",
      "x-goog-stored-content-length: 140351362\n",
      "Content-Type: application/zip\n",
      "Content-Disposition: attachment; filename=\"Personal Protective Equipments.v7-personal-protective-equipments.yolov11.zip\"\n",
      "x-goog-hash: crc32c=w0GOcw==\n",
      "x-goog-hash: md5=X6qFByjCIvpkSOEIa+gmmQ==\n",
      "x-goog-storage-class: STANDARD\n",
      "Accept-Ranges: bytes\n",
      "Content-Length: 140351362\n",
      "Server: UploadServer\n",
      "Alt-Svc: h3=\":443\"; ma=2592000,h3-29=\":443\"; ma=2592000\n",
      "Connection: close\n",
      "\n",
      "\n",
      "[2025-01-08 10:47:02,129: INFO: 2441967934: Extracted artifacts/data_ingestion/data.zip to artifacts/data_ingestion\n"
     ]
    }
   ],
   "source": [
    "try:\n",
    "    config = ConfigurationManager()\n",
    "    data_ingestion_config = config.get_data_ingestion_config()\n",
    "    data_ingestion = DataIngestion(config=data_ingestion_config)\n",
    "    data_ingestion.download_file()\n",
    "    data_ingestion.extract_zip_file()\n",
    "    data_ingestion.remove_zip_file()\n",
    "except Exception as e:\n",
    "    raise e"
   ]
  },
  {
   "cell_type": "code",
   "execution_count": null,
   "metadata": {},
   "outputs": [],
   "source": []
  }
 ],
 "metadata": {
  "kernelspec": {
   "display_name": "env",
   "language": "python",
   "name": "python3"
  },
  "language_info": {
   "codemirror_mode": {
    "name": "ipython",
    "version": 3
   },
   "file_extension": ".py",
   "mimetype": "text/x-python",
   "name": "python",
   "nbconvert_exporter": "python",
   "pygments_lexer": "ipython3",
   "version": "3.12.7"
  }
 },
 "nbformat": 4,
 "nbformat_minor": 2
}
